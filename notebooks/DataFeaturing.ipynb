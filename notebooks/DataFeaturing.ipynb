{
 "cells": [
  {
   "cell_type": "code",
   "execution_count": 3,
   "id": "initial_id",
   "metadata": {
    "collapsed": true,
    "ExecuteTime": {
     "end_time": "2023-12-21T20:02:29.272408100Z",
     "start_time": "2023-12-21T20:02:29.161380700Z"
    }
   },
   "outputs": [],
   "source": [
    "import numpy as np\n",
    "import pandas as pd"
   ]
  },
  {
   "cell_type": "code",
   "execution_count": 4,
   "outputs": [],
   "source": [
    "train = pd.read_csv('../data/train.csv')\n",
    "gas = pd.read_csv('../data/gas_prices.csv')\n",
    "electricity = pd.read_csv('../data/electricity_prices.csv')\n",
    "hw = pd.read_csv('../data/historical_weather.csv')\n",
    "fw = pd.read_csv('../data/forecast_weather.csv')\n",
    "wtm = pd.read_csv('../data/weather_station_to_county_mapping.csv')\n",
    "client = pd.read_csv('../data/client.csv')"
   ],
   "metadata": {
    "collapsed": false,
    "ExecuteTime": {
     "end_time": "2023-12-21T20:02:38.280537800Z",
     "start_time": "2023-12-21T20:02:29.263385600Z"
    }
   },
   "id": "ac855ebea1e4ead1"
  },
  {
   "cell_type": "markdown",
   "source": [
    "## Data featuring"
   ],
   "metadata": {
    "collapsed": false
   },
   "id": "e360ee60361dde69"
  },
  {
   "cell_type": "code",
   "execution_count": null,
   "outputs": [],
   "source": [
    "print(np.round(wtm.isna().sum().sum() / (wtm.shape[0] * wtm.shape[1]) * 100, 2), '% of the',\n",
    "      wtm.shape[0] * wtm.shape[1], 'weather county mapping values are null.')"
   ],
   "metadata": {
    "collapsed": false
   },
   "id": "a05ee61531a01ed9"
  },
  {
   "cell_type": "code",
   "execution_count": 18,
   "outputs": [
    {
     "data": {
      "text/plain": "16"
     },
     "execution_count": 18,
     "metadata": {},
     "output_type": "execute_result"
    }
   ],
   "source": [
    "wtm['county'].nunique()"
   ],
   "metadata": {
    "collapsed": false,
    "ExecuteTime": {
     "end_time": "2023-12-21T20:04:38.794025200Z",
     "start_time": "2023-12-21T20:04:38.767833900Z"
    }
   },
   "id": "f38e75572f57bab1"
  },
  {
   "cell_type": "markdown",
   "source": [
    "#### Historical Weather"
   ],
   "metadata": {
    "collapsed": false
   },
   "id": "fb4b2d89954d9a69"
  },
  {
   "cell_type": "code",
   "execution_count": 6,
   "outputs": [],
   "source": [
    "grouped_hweather = hw.groupby(['datetime']).mean()\n",
    "merge_temp = grouped_hweather.drop(columns=['data_block_id'])\n",
    "train = train.merge(merge_temp, how=\"left\", on=\"datetime\")"
   ],
   "metadata": {
    "collapsed": false,
    "ExecuteTime": {
     "end_time": "2023-12-21T20:02:38.971785200Z",
     "start_time": "2023-12-21T20:02:38.288499500Z"
    }
   },
   "id": "e7547514e28323d2"
  },
  {
   "cell_type": "markdown",
   "source": [
    "#### Forecast Weather"
   ],
   "metadata": {
    "collapsed": false
   },
   "id": "25ea6eff5eb6c1b5"
  },
  {
   "cell_type": "code",
   "execution_count": 7,
   "outputs": [],
   "source": [
    "grouped_fweather = fw.drop(columns=['origin_datetime'])\n",
    "grouped_fweather.rename(columns={'forecast_datetime': 'datetime'}, inplace=True)\n",
    "grouped_fweather = grouped_fweather.groupby(['datetime']).mean()\n",
    "\n",
    "merge_fweather = grouped_fweather.drop(columns=['latitude', 'longitude', 'data_block_id'])\n",
    "merge_fweather.columns = list(map(lambda c: \"fc_%s\" % c, merge_fweather.columns))\n",
    "\n",
    "train = train.merge(merge_fweather, how=\"left\", on=\"datetime\")"
   ],
   "metadata": {
    "collapsed": false,
    "ExecuteTime": {
     "end_time": "2023-12-21T20:02:40.079516600Z",
     "start_time": "2023-12-21T20:02:38.974708200Z"
    }
   },
   "id": "7e8f383ac978109c"
  },
  {
   "cell_type": "markdown",
   "source": [
    "#### Electricity Prices"
   ],
   "metadata": {
    "collapsed": false
   },
   "id": "601cce7cdc8a3a70"
  },
  {
   "cell_type": "code",
   "execution_count": 8,
   "outputs": [],
   "source": [
    "merge_elec = electricity.filter(items=['euros_per_mwh', 'forecast_date'], axis=1)\n",
    "merge_elec.rename(columns={\"forecast_date\": \"datetime\", \"euros_per_mwh\": \"elec_price\"}, inplace=True)\n",
    "\n",
    "train = train.merge(merge_elec, how=\"left\", on=\"datetime\")"
   ],
   "metadata": {
    "collapsed": false,
    "ExecuteTime": {
     "end_time": "2023-12-21T20:02:40.659691600Z",
     "start_time": "2023-12-21T20:02:40.082911300Z"
    }
   },
   "id": "ea1002019e0eec69"
  },
  {
   "cell_type": "markdown",
   "source": [
    "#### Gas Prices"
   ],
   "metadata": {
    "collapsed": false
   },
   "id": "f7602555da22eb62"
  },
  {
   "cell_type": "code",
   "execution_count": 9,
   "outputs": [],
   "source": [
    "train[\"forecast_date\"] = pd.to_datetime(train[\"datetime\"]).dt.strftime('%Y-%m-%d')"
   ],
   "metadata": {
    "collapsed": false,
    "ExecuteTime": {
     "end_time": "2023-12-21T20:02:42.036223500Z",
     "start_time": "2023-12-21T20:02:40.661690300Z"
    }
   },
   "id": "c13a470c61914e4"
  },
  {
   "cell_type": "code",
   "execution_count": 10,
   "outputs": [],
   "source": [
    "merge_gas = gas.filter(items=['lowest_price_per_mwh', 'highest_price_per_mwh', 'forecast_date'], axis=1)\n",
    "merge_gas.rename(columns={\"lowest_price_per_mwh\": \"lowest_gas_price\", \"highest_price_per_mwh\": \"highest_gas_price\"},\n",
    "                 inplace=True)\n",
    "\n",
    "train = train.merge(merge_gas, how=\"left\", on=\"forecast_date\")"
   ],
   "metadata": {
    "collapsed": false,
    "ExecuteTime": {
     "end_time": "2023-12-21T20:02:42.735528Z",
     "start_time": "2023-12-21T20:02:42.040377700Z"
    }
   },
   "id": "abb390f602cae421"
  },
  {
   "cell_type": "markdown",
   "source": [
    "#### Client"
   ],
   "metadata": {
    "collapsed": false
   },
   "id": "dbdb156f544de3dc"
  },
  {
   "cell_type": "code",
   "execution_count": 11,
   "outputs": [],
   "source": [
    "grouped_client = client.drop(columns=['data_block_id', 'is_business'])\n",
    "grouped_client.rename(columns={'date': 'forecast_date'}, inplace=True)\n",
    "merge_client = grouped_client.groupby(['forecast_date', 'product_type']).mean()\n",
    "\n",
    "train = train.merge(merge_client, how=\"left\", on=[\"forecast_date\", \"product_type\"], suffixes=('', '_clt'))"
   ],
   "metadata": {
    "collapsed": false,
    "ExecuteTime": {
     "end_time": "2023-12-21T20:02:43.460309Z",
     "start_time": "2023-12-21T20:02:42.739762500Z"
    }
   },
   "id": "142a065d785c58c6"
  },
  {
   "cell_type": "code",
   "execution_count": 12,
   "outputs": [],
   "source": [
    "train.drop(columns='forecast_date', inplace=True)"
   ],
   "metadata": {
    "collapsed": false,
    "ExecuteTime": {
     "end_time": "2023-12-21T20:02:43.696000800Z",
     "start_time": "2023-12-21T20:02:43.462308900Z"
    }
   },
   "id": "d616b4076e74491b"
  },
  {
   "cell_type": "markdown",
   "source": [
    "#### Date formats"
   ],
   "metadata": {
    "collapsed": false
   },
   "id": "d936a5479eae363c"
  },
  {
   "cell_type": "code",
   "execution_count": 13,
   "outputs": [],
   "source": [
    "import numpy as np\n",
    "\n",
    "train['hour'] = pd.to_datetime(train['datetime']).dt.hour\n",
    "train['sin_hour'] = np.sin(2 * np.pi * train['hour'] / max(train['hour']))\n",
    "train['cos_hour'] = np.cos(2 * np.pi * train['hour'] / max(train['hour']))\n",
    "\n",
    "train['day'] = pd.to_datetime(train['datetime']).dt.day\n",
    "train['sin_day'] = np.sin(2 * np.pi * train['day'] / max(train['day']))\n",
    "train['cos_day'] = np.cos(2 * np.pi * train['day'] / max(train['day']))\n",
    "\n",
    "train['month'] = pd.to_datetime(train['datetime']).dt.month\n",
    "train['sin_month'] = np.sin(2 * np.pi * train['month'] / max(train['month']))\n",
    "train['cos_month'] = np.cos(2 * np.pi * train['month'] / max(train['month']))\n",
    "\n",
    "train['weekday'] = pd.to_datetime(train['datetime']).dt.weekday\n",
    "train['year'] = pd.to_datetime(train['datetime']).dt.year\n",
    "\n",
    "train.drop(columns=['datetime', 'row_id', 'hour', 'day', 'month'], inplace=True)"
   ],
   "metadata": {
    "collapsed": false,
    "ExecuteTime": {
     "end_time": "2023-12-21T20:02:46.227542200Z",
     "start_time": "2023-12-21T20:02:43.697016100Z"
    }
   },
   "id": "956fa069290a76db"
  },
  {
   "cell_type": "code",
   "execution_count": 14,
   "outputs": [
    {
     "data": {
      "text/plain": "         county  is_business  product_type   target  is_consumption  \\\n0             0            0             1    0.713               0   \n1             0            0             1   96.590               1   \n2             0            0             2    0.000               0   \n3             0            0             2   17.314               1   \n4             0            0             3    2.904               0   \n...         ...          ...           ...      ...             ...   \n2018347      15            1             0  197.233               1   \n2018348      15            1             1    0.000               0   \n2018349      15            1             1   28.404               1   \n2018350      15            1             3    0.000               0   \n2018351      15            1             3  196.240               1   \n\n         data_block_id  prediction_unit_id  temperature  dewpoint      rain  \\\n0                    0                   0    13.308929   10.9875  0.013393   \n1                    0                   0    13.308929   10.9875  0.013393   \n2                    0                   1    13.308929   10.9875  0.013393   \n3                    0                   1    13.308929   10.9875  0.013393   \n4                    0                   2    13.308929   10.9875  0.013393   \n...                ...                 ...          ...       ...       ...   \n2018347            637                  64          NaN       NaN       NaN   \n2018348            637                  59          NaN       NaN       NaN   \n2018349            637                  59          NaN       NaN       NaN   \n2018350            637                  60          NaN       NaN       NaN   \n2018351            637                  60          NaN       NaN       NaN   \n\n         ...  eic_count  installed_capacity      sin_hour  cos_hour  \\\n0        ...  20.863636          360.281364  0.000000e+00       1.0   \n1        ...  20.863636          360.281364  0.000000e+00       1.0   \n2        ...   8.600000          110.180000  0.000000e+00       1.0   \n3        ...   8.600000          110.180000  0.000000e+00       1.0   \n4        ...  87.433333         1924.952333  0.000000e+00       1.0   \n...      ...        ...                 ...           ...       ...   \n2018347  ...        NaN                 NaN -2.449294e-16       1.0   \n2018348  ...        NaN                 NaN -2.449294e-16       1.0   \n2018349  ...        NaN                 NaN -2.449294e-16       1.0   \n2018350  ...        NaN                 NaN -2.449294e-16       1.0   \n2018351  ...        NaN                 NaN -2.449294e-16       1.0   \n\n              sin_day  cos_day  sin_month     cos_month  weekday  year  \n0        2.012985e-01  0.97953       -1.0 -1.836970e-16        2  2021  \n1        2.012985e-01  0.97953       -1.0 -1.836970e-16        2  2021  \n2        2.012985e-01  0.97953       -1.0 -1.836970e-16        2  2021  \n3        2.012985e-01  0.97953       -1.0 -1.836970e-16        2  2021  \n4        2.012985e-01  0.97953       -1.0 -1.836970e-16        2  2021  \n...               ...      ...        ...           ...      ...   ...  \n2018347 -2.449294e-16  1.00000        0.5 -8.660254e-01        2  2023  \n2018348 -2.449294e-16  1.00000        0.5 -8.660254e-01        2  2023  \n2018349 -2.449294e-16  1.00000        0.5 -8.660254e-01        2  2023  \n2018350 -2.449294e-16  1.00000        0.5 -8.660254e-01        2  2023  \n2018351 -2.449294e-16  1.00000        0.5 -8.660254e-01        2  2023  \n\n[2018352 rows x 50 columns]",
      "text/html": "<div>\n<style scoped>\n    .dataframe tbody tr th:only-of-type {\n        vertical-align: middle;\n    }\n\n    .dataframe tbody tr th {\n        vertical-align: top;\n    }\n\n    .dataframe thead th {\n        text-align: right;\n    }\n</style>\n<table border=\"1\" class=\"dataframe\">\n  <thead>\n    <tr style=\"text-align: right;\">\n      <th></th>\n      <th>county</th>\n      <th>is_business</th>\n      <th>product_type</th>\n      <th>target</th>\n      <th>is_consumption</th>\n      <th>data_block_id</th>\n      <th>prediction_unit_id</th>\n      <th>temperature</th>\n      <th>dewpoint</th>\n      <th>rain</th>\n      <th>...</th>\n      <th>eic_count</th>\n      <th>installed_capacity</th>\n      <th>sin_hour</th>\n      <th>cos_hour</th>\n      <th>sin_day</th>\n      <th>cos_day</th>\n      <th>sin_month</th>\n      <th>cos_month</th>\n      <th>weekday</th>\n      <th>year</th>\n    </tr>\n  </thead>\n  <tbody>\n    <tr>\n      <th>0</th>\n      <td>0</td>\n      <td>0</td>\n      <td>1</td>\n      <td>0.713</td>\n      <td>0</td>\n      <td>0</td>\n      <td>0</td>\n      <td>13.308929</td>\n      <td>10.9875</td>\n      <td>0.013393</td>\n      <td>...</td>\n      <td>20.863636</td>\n      <td>360.281364</td>\n      <td>0.000000e+00</td>\n      <td>1.0</td>\n      <td>2.012985e-01</td>\n      <td>0.97953</td>\n      <td>-1.0</td>\n      <td>-1.836970e-16</td>\n      <td>2</td>\n      <td>2021</td>\n    </tr>\n    <tr>\n      <th>1</th>\n      <td>0</td>\n      <td>0</td>\n      <td>1</td>\n      <td>96.590</td>\n      <td>1</td>\n      <td>0</td>\n      <td>0</td>\n      <td>13.308929</td>\n      <td>10.9875</td>\n      <td>0.013393</td>\n      <td>...</td>\n      <td>20.863636</td>\n      <td>360.281364</td>\n      <td>0.000000e+00</td>\n      <td>1.0</td>\n      <td>2.012985e-01</td>\n      <td>0.97953</td>\n      <td>-1.0</td>\n      <td>-1.836970e-16</td>\n      <td>2</td>\n      <td>2021</td>\n    </tr>\n    <tr>\n      <th>2</th>\n      <td>0</td>\n      <td>0</td>\n      <td>2</td>\n      <td>0.000</td>\n      <td>0</td>\n      <td>0</td>\n      <td>1</td>\n      <td>13.308929</td>\n      <td>10.9875</td>\n      <td>0.013393</td>\n      <td>...</td>\n      <td>8.600000</td>\n      <td>110.180000</td>\n      <td>0.000000e+00</td>\n      <td>1.0</td>\n      <td>2.012985e-01</td>\n      <td>0.97953</td>\n      <td>-1.0</td>\n      <td>-1.836970e-16</td>\n      <td>2</td>\n      <td>2021</td>\n    </tr>\n    <tr>\n      <th>3</th>\n      <td>0</td>\n      <td>0</td>\n      <td>2</td>\n      <td>17.314</td>\n      <td>1</td>\n      <td>0</td>\n      <td>1</td>\n      <td>13.308929</td>\n      <td>10.9875</td>\n      <td>0.013393</td>\n      <td>...</td>\n      <td>8.600000</td>\n      <td>110.180000</td>\n      <td>0.000000e+00</td>\n      <td>1.0</td>\n      <td>2.012985e-01</td>\n      <td>0.97953</td>\n      <td>-1.0</td>\n      <td>-1.836970e-16</td>\n      <td>2</td>\n      <td>2021</td>\n    </tr>\n    <tr>\n      <th>4</th>\n      <td>0</td>\n      <td>0</td>\n      <td>3</td>\n      <td>2.904</td>\n      <td>0</td>\n      <td>0</td>\n      <td>2</td>\n      <td>13.308929</td>\n      <td>10.9875</td>\n      <td>0.013393</td>\n      <td>...</td>\n      <td>87.433333</td>\n      <td>1924.952333</td>\n      <td>0.000000e+00</td>\n      <td>1.0</td>\n      <td>2.012985e-01</td>\n      <td>0.97953</td>\n      <td>-1.0</td>\n      <td>-1.836970e-16</td>\n      <td>2</td>\n      <td>2021</td>\n    </tr>\n    <tr>\n      <th>...</th>\n      <td>...</td>\n      <td>...</td>\n      <td>...</td>\n      <td>...</td>\n      <td>...</td>\n      <td>...</td>\n      <td>...</td>\n      <td>...</td>\n      <td>...</td>\n      <td>...</td>\n      <td>...</td>\n      <td>...</td>\n      <td>...</td>\n      <td>...</td>\n      <td>...</td>\n      <td>...</td>\n      <td>...</td>\n      <td>...</td>\n      <td>...</td>\n      <td>...</td>\n      <td>...</td>\n    </tr>\n    <tr>\n      <th>2018347</th>\n      <td>15</td>\n      <td>1</td>\n      <td>0</td>\n      <td>197.233</td>\n      <td>1</td>\n      <td>637</td>\n      <td>64</td>\n      <td>NaN</td>\n      <td>NaN</td>\n      <td>NaN</td>\n      <td>...</td>\n      <td>NaN</td>\n      <td>NaN</td>\n      <td>-2.449294e-16</td>\n      <td>1.0</td>\n      <td>-2.449294e-16</td>\n      <td>1.00000</td>\n      <td>0.5</td>\n      <td>-8.660254e-01</td>\n      <td>2</td>\n      <td>2023</td>\n    </tr>\n    <tr>\n      <th>2018348</th>\n      <td>15</td>\n      <td>1</td>\n      <td>1</td>\n      <td>0.000</td>\n      <td>0</td>\n      <td>637</td>\n      <td>59</td>\n      <td>NaN</td>\n      <td>NaN</td>\n      <td>NaN</td>\n      <td>...</td>\n      <td>NaN</td>\n      <td>NaN</td>\n      <td>-2.449294e-16</td>\n      <td>1.0</td>\n      <td>-2.449294e-16</td>\n      <td>1.00000</td>\n      <td>0.5</td>\n      <td>-8.660254e-01</td>\n      <td>2</td>\n      <td>2023</td>\n    </tr>\n    <tr>\n      <th>2018349</th>\n      <td>15</td>\n      <td>1</td>\n      <td>1</td>\n      <td>28.404</td>\n      <td>1</td>\n      <td>637</td>\n      <td>59</td>\n      <td>NaN</td>\n      <td>NaN</td>\n      <td>NaN</td>\n      <td>...</td>\n      <td>NaN</td>\n      <td>NaN</td>\n      <td>-2.449294e-16</td>\n      <td>1.0</td>\n      <td>-2.449294e-16</td>\n      <td>1.00000</td>\n      <td>0.5</td>\n      <td>-8.660254e-01</td>\n      <td>2</td>\n      <td>2023</td>\n    </tr>\n    <tr>\n      <th>2018350</th>\n      <td>15</td>\n      <td>1</td>\n      <td>3</td>\n      <td>0.000</td>\n      <td>0</td>\n      <td>637</td>\n      <td>60</td>\n      <td>NaN</td>\n      <td>NaN</td>\n      <td>NaN</td>\n      <td>...</td>\n      <td>NaN</td>\n      <td>NaN</td>\n      <td>-2.449294e-16</td>\n      <td>1.0</td>\n      <td>-2.449294e-16</td>\n      <td>1.00000</td>\n      <td>0.5</td>\n      <td>-8.660254e-01</td>\n      <td>2</td>\n      <td>2023</td>\n    </tr>\n    <tr>\n      <th>2018351</th>\n      <td>15</td>\n      <td>1</td>\n      <td>3</td>\n      <td>196.240</td>\n      <td>1</td>\n      <td>637</td>\n      <td>60</td>\n      <td>NaN</td>\n      <td>NaN</td>\n      <td>NaN</td>\n      <td>...</td>\n      <td>NaN</td>\n      <td>NaN</td>\n      <td>-2.449294e-16</td>\n      <td>1.0</td>\n      <td>-2.449294e-16</td>\n      <td>1.00000</td>\n      <td>0.5</td>\n      <td>-8.660254e-01</td>\n      <td>2</td>\n      <td>2023</td>\n    </tr>\n  </tbody>\n</table>\n<p>2018352 rows × 50 columns</p>\n</div>"
     },
     "execution_count": 14,
     "metadata": {},
     "output_type": "execute_result"
    }
   ],
   "source": [
    "train"
   ],
   "metadata": {
    "collapsed": false,
    "ExecuteTime": {
     "end_time": "2023-12-21T20:02:46.636535100Z",
     "start_time": "2023-12-21T20:02:46.229543700Z"
    }
   },
   "id": "9a0453b2aa61f8c7"
  },
  {
   "cell_type": "code",
   "execution_count": 15,
   "outputs": [
    {
     "data": {
      "text/plain": "114050"
     },
     "execution_count": 15,
     "metadata": {},
     "output_type": "execute_result"
    }
   ],
   "source": [
    "train.isna().sum().sum()"
   ],
   "metadata": {
    "collapsed": false,
    "ExecuteTime": {
     "end_time": "2023-12-21T20:02:46.838368Z",
     "start_time": "2023-12-21T20:02:46.633544300Z"
    }
   },
   "id": "9cd17a4442d1232a"
  },
  {
   "cell_type": "markdown",
   "source": [
    "## Export"
   ],
   "metadata": {
    "collapsed": false
   },
   "id": "b3ae201d74376ce6"
  },
  {
   "cell_type": "code",
   "execution_count": 16,
   "outputs": [
    {
     "ename": "KeyboardInterrupt",
     "evalue": "",
     "output_type": "error",
     "traceback": [
      "\u001B[1;31m---------------------------------------------------------------------------\u001B[0m",
      "\u001B[1;31mKeyboardInterrupt\u001B[0m                         Traceback (most recent call last)",
      "Cell \u001B[1;32mIn [16], line 1\u001B[0m\n\u001B[1;32m----> 1\u001B[0m \u001B[43mtrain\u001B[49m\u001B[38;5;241;43m.\u001B[39;49m\u001B[43mto_csv\u001B[49m\u001B[43m(\u001B[49m\u001B[38;5;124;43m\"\u001B[39;49m\u001B[38;5;124;43mdataset.csv\u001B[39;49m\u001B[38;5;124;43m\"\u001B[39;49m\u001B[43m,\u001B[49m\u001B[43m \u001B[49m\u001B[43mindex\u001B[49m\u001B[38;5;241;43m=\u001B[39;49m\u001B[38;5;28;43;01mFalse\u001B[39;49;00m\u001B[43m)\u001B[49m\n",
      "File \u001B[1;32m~\\scoop\\apps\\python\\current\\Lib\\site-packages\\pandas\\util\\_decorators.py:211\u001B[0m, in \u001B[0;36mdeprecate_kwarg.<locals>._deprecate_kwarg.<locals>.wrapper\u001B[1;34m(*args, **kwargs)\u001B[0m\n\u001B[0;32m    209\u001B[0m     \u001B[38;5;28;01melse\u001B[39;00m:\n\u001B[0;32m    210\u001B[0m         kwargs[new_arg_name] \u001B[38;5;241m=\u001B[39m new_arg_value\n\u001B[1;32m--> 211\u001B[0m \u001B[38;5;28;01mreturn\u001B[39;00m \u001B[43mfunc\u001B[49m\u001B[43m(\u001B[49m\u001B[38;5;241;43m*\u001B[39;49m\u001B[43margs\u001B[49m\u001B[43m,\u001B[49m\u001B[43m \u001B[49m\u001B[38;5;241;43m*\u001B[39;49m\u001B[38;5;241;43m*\u001B[39;49m\u001B[43mkwargs\u001B[49m\u001B[43m)\u001B[49m\n",
      "File \u001B[1;32m~\\scoop\\apps\\python\\current\\Lib\\site-packages\\pandas\\core\\generic.py:3720\u001B[0m, in \u001B[0;36mNDFrame.to_csv\u001B[1;34m(self, path_or_buf, sep, na_rep, float_format, columns, header, index, index_label, mode, encoding, compression, quoting, quotechar, lineterminator, chunksize, date_format, doublequote, escapechar, decimal, errors, storage_options)\u001B[0m\n\u001B[0;32m   3709\u001B[0m df \u001B[38;5;241m=\u001B[39m \u001B[38;5;28mself\u001B[39m \u001B[38;5;28;01mif\u001B[39;00m \u001B[38;5;28misinstance\u001B[39m(\u001B[38;5;28mself\u001B[39m, ABCDataFrame) \u001B[38;5;28;01melse\u001B[39;00m \u001B[38;5;28mself\u001B[39m\u001B[38;5;241m.\u001B[39mto_frame()\n\u001B[0;32m   3711\u001B[0m formatter \u001B[38;5;241m=\u001B[39m DataFrameFormatter(\n\u001B[0;32m   3712\u001B[0m     frame\u001B[38;5;241m=\u001B[39mdf,\n\u001B[0;32m   3713\u001B[0m     header\u001B[38;5;241m=\u001B[39mheader,\n\u001B[1;32m   (...)\u001B[0m\n\u001B[0;32m   3717\u001B[0m     decimal\u001B[38;5;241m=\u001B[39mdecimal,\n\u001B[0;32m   3718\u001B[0m )\n\u001B[1;32m-> 3720\u001B[0m \u001B[38;5;28;01mreturn\u001B[39;00m \u001B[43mDataFrameRenderer\u001B[49m\u001B[43m(\u001B[49m\u001B[43mformatter\u001B[49m\u001B[43m)\u001B[49m\u001B[38;5;241;43m.\u001B[39;49m\u001B[43mto_csv\u001B[49m\u001B[43m(\u001B[49m\n\u001B[0;32m   3721\u001B[0m \u001B[43m    \u001B[49m\u001B[43mpath_or_buf\u001B[49m\u001B[43m,\u001B[49m\n\u001B[0;32m   3722\u001B[0m \u001B[43m    \u001B[49m\u001B[43mlineterminator\u001B[49m\u001B[38;5;241;43m=\u001B[39;49m\u001B[43mlineterminator\u001B[49m\u001B[43m,\u001B[49m\n\u001B[0;32m   3723\u001B[0m \u001B[43m    \u001B[49m\u001B[43msep\u001B[49m\u001B[38;5;241;43m=\u001B[39;49m\u001B[43msep\u001B[49m\u001B[43m,\u001B[49m\n\u001B[0;32m   3724\u001B[0m \u001B[43m    \u001B[49m\u001B[43mencoding\u001B[49m\u001B[38;5;241;43m=\u001B[39;49m\u001B[43mencoding\u001B[49m\u001B[43m,\u001B[49m\n\u001B[0;32m   3725\u001B[0m \u001B[43m    \u001B[49m\u001B[43merrors\u001B[49m\u001B[38;5;241;43m=\u001B[39;49m\u001B[43merrors\u001B[49m\u001B[43m,\u001B[49m\n\u001B[0;32m   3726\u001B[0m \u001B[43m    \u001B[49m\u001B[43mcompression\u001B[49m\u001B[38;5;241;43m=\u001B[39;49m\u001B[43mcompression\u001B[49m\u001B[43m,\u001B[49m\n\u001B[0;32m   3727\u001B[0m \u001B[43m    \u001B[49m\u001B[43mquoting\u001B[49m\u001B[38;5;241;43m=\u001B[39;49m\u001B[43mquoting\u001B[49m\u001B[43m,\u001B[49m\n\u001B[0;32m   3728\u001B[0m \u001B[43m    \u001B[49m\u001B[43mcolumns\u001B[49m\u001B[38;5;241;43m=\u001B[39;49m\u001B[43mcolumns\u001B[49m\u001B[43m,\u001B[49m\n\u001B[0;32m   3729\u001B[0m \u001B[43m    \u001B[49m\u001B[43mindex_label\u001B[49m\u001B[38;5;241;43m=\u001B[39;49m\u001B[43mindex_label\u001B[49m\u001B[43m,\u001B[49m\n\u001B[0;32m   3730\u001B[0m \u001B[43m    \u001B[49m\u001B[43mmode\u001B[49m\u001B[38;5;241;43m=\u001B[39;49m\u001B[43mmode\u001B[49m\u001B[43m,\u001B[49m\n\u001B[0;32m   3731\u001B[0m \u001B[43m    \u001B[49m\u001B[43mchunksize\u001B[49m\u001B[38;5;241;43m=\u001B[39;49m\u001B[43mchunksize\u001B[49m\u001B[43m,\u001B[49m\n\u001B[0;32m   3732\u001B[0m \u001B[43m    \u001B[49m\u001B[43mquotechar\u001B[49m\u001B[38;5;241;43m=\u001B[39;49m\u001B[43mquotechar\u001B[49m\u001B[43m,\u001B[49m\n\u001B[0;32m   3733\u001B[0m \u001B[43m    \u001B[49m\u001B[43mdate_format\u001B[49m\u001B[38;5;241;43m=\u001B[39;49m\u001B[43mdate_format\u001B[49m\u001B[43m,\u001B[49m\n\u001B[0;32m   3734\u001B[0m \u001B[43m    \u001B[49m\u001B[43mdoublequote\u001B[49m\u001B[38;5;241;43m=\u001B[39;49m\u001B[43mdoublequote\u001B[49m\u001B[43m,\u001B[49m\n\u001B[0;32m   3735\u001B[0m \u001B[43m    \u001B[49m\u001B[43mescapechar\u001B[49m\u001B[38;5;241;43m=\u001B[39;49m\u001B[43mescapechar\u001B[49m\u001B[43m,\u001B[49m\n\u001B[0;32m   3736\u001B[0m \u001B[43m    \u001B[49m\u001B[43mstorage_options\u001B[49m\u001B[38;5;241;43m=\u001B[39;49m\u001B[43mstorage_options\u001B[49m\u001B[43m,\u001B[49m\n\u001B[0;32m   3737\u001B[0m \u001B[43m\u001B[49m\u001B[43m)\u001B[49m\n",
      "File \u001B[1;32m~\\scoop\\apps\\python\\current\\Lib\\site-packages\\pandas\\util\\_decorators.py:211\u001B[0m, in \u001B[0;36mdeprecate_kwarg.<locals>._deprecate_kwarg.<locals>.wrapper\u001B[1;34m(*args, **kwargs)\u001B[0m\n\u001B[0;32m    209\u001B[0m     \u001B[38;5;28;01melse\u001B[39;00m:\n\u001B[0;32m    210\u001B[0m         kwargs[new_arg_name] \u001B[38;5;241m=\u001B[39m new_arg_value\n\u001B[1;32m--> 211\u001B[0m \u001B[38;5;28;01mreturn\u001B[39;00m \u001B[43mfunc\u001B[49m\u001B[43m(\u001B[49m\u001B[38;5;241;43m*\u001B[39;49m\u001B[43margs\u001B[49m\u001B[43m,\u001B[49m\u001B[43m \u001B[49m\u001B[38;5;241;43m*\u001B[39;49m\u001B[38;5;241;43m*\u001B[39;49m\u001B[43mkwargs\u001B[49m\u001B[43m)\u001B[49m\n",
      "File \u001B[1;32m~\\scoop\\apps\\python\\current\\Lib\\site-packages\\pandas\\io\\formats\\format.py:1189\u001B[0m, in \u001B[0;36mDataFrameRenderer.to_csv\u001B[1;34m(self, path_or_buf, encoding, sep, columns, index_label, mode, compression, quoting, quotechar, lineterminator, chunksize, date_format, doublequote, escapechar, errors, storage_options)\u001B[0m\n\u001B[0;32m   1168\u001B[0m     created_buffer \u001B[38;5;241m=\u001B[39m \u001B[38;5;28;01mFalse\u001B[39;00m\n\u001B[0;32m   1170\u001B[0m csv_formatter \u001B[38;5;241m=\u001B[39m CSVFormatter(\n\u001B[0;32m   1171\u001B[0m     path_or_buf\u001B[38;5;241m=\u001B[39mpath_or_buf,\n\u001B[0;32m   1172\u001B[0m     lineterminator\u001B[38;5;241m=\u001B[39mlineterminator,\n\u001B[1;32m   (...)\u001B[0m\n\u001B[0;32m   1187\u001B[0m     formatter\u001B[38;5;241m=\u001B[39m\u001B[38;5;28mself\u001B[39m\u001B[38;5;241m.\u001B[39mfmt,\n\u001B[0;32m   1188\u001B[0m )\n\u001B[1;32m-> 1189\u001B[0m \u001B[43mcsv_formatter\u001B[49m\u001B[38;5;241;43m.\u001B[39;49m\u001B[43msave\u001B[49m\u001B[43m(\u001B[49m\u001B[43m)\u001B[49m\n\u001B[0;32m   1191\u001B[0m \u001B[38;5;28;01mif\u001B[39;00m created_buffer:\n\u001B[0;32m   1192\u001B[0m     \u001B[38;5;28;01massert\u001B[39;00m \u001B[38;5;28misinstance\u001B[39m(path_or_buf, StringIO)\n",
      "File \u001B[1;32m~\\scoop\\apps\\python\\current\\Lib\\site-packages\\pandas\\io\\formats\\csvs.py:261\u001B[0m, in \u001B[0;36mCSVFormatter.save\u001B[1;34m(self)\u001B[0m\n\u001B[0;32m    241\u001B[0m \u001B[38;5;28;01mwith\u001B[39;00m get_handle(\n\u001B[0;32m    242\u001B[0m     \u001B[38;5;28mself\u001B[39m\u001B[38;5;241m.\u001B[39mfilepath_or_buffer,\n\u001B[0;32m    243\u001B[0m     \u001B[38;5;28mself\u001B[39m\u001B[38;5;241m.\u001B[39mmode,\n\u001B[1;32m   (...)\u001B[0m\n\u001B[0;32m    249\u001B[0m \n\u001B[0;32m    250\u001B[0m     \u001B[38;5;66;03m# Note: self.encoding is irrelevant here\u001B[39;00m\n\u001B[0;32m    251\u001B[0m     \u001B[38;5;28mself\u001B[39m\u001B[38;5;241m.\u001B[39mwriter \u001B[38;5;241m=\u001B[39m csvlib\u001B[38;5;241m.\u001B[39mwriter(\n\u001B[0;32m    252\u001B[0m         handles\u001B[38;5;241m.\u001B[39mhandle,\n\u001B[0;32m    253\u001B[0m         lineterminator\u001B[38;5;241m=\u001B[39m\u001B[38;5;28mself\u001B[39m\u001B[38;5;241m.\u001B[39mlineterminator,\n\u001B[1;32m   (...)\u001B[0m\n\u001B[0;32m    258\u001B[0m         quotechar\u001B[38;5;241m=\u001B[39m\u001B[38;5;28mself\u001B[39m\u001B[38;5;241m.\u001B[39mquotechar,\n\u001B[0;32m    259\u001B[0m     )\n\u001B[1;32m--> 261\u001B[0m     \u001B[38;5;28;43mself\u001B[39;49m\u001B[38;5;241;43m.\u001B[39;49m\u001B[43m_save\u001B[49m\u001B[43m(\u001B[49m\u001B[43m)\u001B[49m\n",
      "File \u001B[1;32m~\\scoop\\apps\\python\\current\\Lib\\site-packages\\pandas\\io\\formats\\csvs.py:266\u001B[0m, in \u001B[0;36mCSVFormatter._save\u001B[1;34m(self)\u001B[0m\n\u001B[0;32m    264\u001B[0m \u001B[38;5;28;01mif\u001B[39;00m \u001B[38;5;28mself\u001B[39m\u001B[38;5;241m.\u001B[39m_need_to_save_header:\n\u001B[0;32m    265\u001B[0m     \u001B[38;5;28mself\u001B[39m\u001B[38;5;241m.\u001B[39m_save_header()\n\u001B[1;32m--> 266\u001B[0m \u001B[38;5;28;43mself\u001B[39;49m\u001B[38;5;241;43m.\u001B[39;49m\u001B[43m_save_body\u001B[49m\u001B[43m(\u001B[49m\u001B[43m)\u001B[49m\n",
      "File \u001B[1;32m~\\scoop\\apps\\python\\current\\Lib\\site-packages\\pandas\\io\\formats\\csvs.py:304\u001B[0m, in \u001B[0;36mCSVFormatter._save_body\u001B[1;34m(self)\u001B[0m\n\u001B[0;32m    302\u001B[0m \u001B[38;5;28;01mif\u001B[39;00m start_i \u001B[38;5;241m>\u001B[39m\u001B[38;5;241m=\u001B[39m end_i:\n\u001B[0;32m    303\u001B[0m     \u001B[38;5;28;01mbreak\u001B[39;00m\n\u001B[1;32m--> 304\u001B[0m \u001B[38;5;28;43mself\u001B[39;49m\u001B[38;5;241;43m.\u001B[39;49m\u001B[43m_save_chunk\u001B[49m\u001B[43m(\u001B[49m\u001B[43mstart_i\u001B[49m\u001B[43m,\u001B[49m\u001B[43m \u001B[49m\u001B[43mend_i\u001B[49m\u001B[43m)\u001B[49m\n",
      "File \u001B[1;32m~\\scoop\\apps\\python\\current\\Lib\\site-packages\\pandas\\io\\formats\\csvs.py:315\u001B[0m, in \u001B[0;36mCSVFormatter._save_chunk\u001B[1;34m(self, start_i, end_i)\u001B[0m\n\u001B[0;32m    312\u001B[0m data \u001B[38;5;241m=\u001B[39m [res\u001B[38;5;241m.\u001B[39miget_values(i) \u001B[38;5;28;01mfor\u001B[39;00m i \u001B[38;5;129;01min\u001B[39;00m \u001B[38;5;28mrange\u001B[39m(\u001B[38;5;28mlen\u001B[39m(res\u001B[38;5;241m.\u001B[39mitems))]\n\u001B[0;32m    314\u001B[0m ix \u001B[38;5;241m=\u001B[39m \u001B[38;5;28mself\u001B[39m\u001B[38;5;241m.\u001B[39mdata_index[slicer]\u001B[38;5;241m.\u001B[39m_format_native_types(\u001B[38;5;241m*\u001B[39m\u001B[38;5;241m*\u001B[39m\u001B[38;5;28mself\u001B[39m\u001B[38;5;241m.\u001B[39m_number_format)\n\u001B[1;32m--> 315\u001B[0m \u001B[43mlibwriters\u001B[49m\u001B[38;5;241;43m.\u001B[39;49m\u001B[43mwrite_csv_rows\u001B[49m\u001B[43m(\u001B[49m\n\u001B[0;32m    316\u001B[0m \u001B[43m    \u001B[49m\u001B[43mdata\u001B[49m\u001B[43m,\u001B[49m\n\u001B[0;32m    317\u001B[0m \u001B[43m    \u001B[49m\u001B[43mix\u001B[49m\u001B[43m,\u001B[49m\n\u001B[0;32m    318\u001B[0m \u001B[43m    \u001B[49m\u001B[38;5;28;43mself\u001B[39;49m\u001B[38;5;241;43m.\u001B[39;49m\u001B[43mnlevels\u001B[49m\u001B[43m,\u001B[49m\n\u001B[0;32m    319\u001B[0m \u001B[43m    \u001B[49m\u001B[38;5;28;43mself\u001B[39;49m\u001B[38;5;241;43m.\u001B[39;49m\u001B[43mcols\u001B[49m\u001B[43m,\u001B[49m\n\u001B[0;32m    320\u001B[0m \u001B[43m    \u001B[49m\u001B[38;5;28;43mself\u001B[39;49m\u001B[38;5;241;43m.\u001B[39;49m\u001B[43mwriter\u001B[49m\u001B[43m,\u001B[49m\n\u001B[0;32m    321\u001B[0m \u001B[43m\u001B[49m\u001B[43m)\u001B[49m\n",
      "File \u001B[1;32m~\\scoop\\apps\\python\\current\\Lib\\site-packages\\pandas\\_libs\\writers.pyx:72\u001B[0m, in \u001B[0;36mpandas._libs.writers.write_csv_rows\u001B[1;34m()\u001B[0m\n",
      "\u001B[1;31mKeyboardInterrupt\u001B[0m: "
     ]
    }
   ],
   "source": [
    "# train.to_csv(\"dataset.csv\", index=False)"
   ],
   "metadata": {
    "collapsed": false,
    "ExecuteTime": {
     "end_time": "2023-12-21T20:03:58.892531900Z",
     "start_time": "2023-12-21T20:02:46.786379400Z"
    }
   },
   "id": "321917bb7e0f4305"
  }
 ],
 "metadata": {
  "kernelspec": {
   "display_name": "Python 3",
   "language": "python",
   "name": "python3"
  },
  "language_info": {
   "codemirror_mode": {
    "name": "ipython",
    "version": 2
   },
   "file_extension": ".py",
   "mimetype": "text/x-python",
   "name": "python",
   "nbconvert_exporter": "python",
   "pygments_lexer": "ipython2",
   "version": "2.7.6"
  }
 },
 "nbformat": 4,
 "nbformat_minor": 5
}
